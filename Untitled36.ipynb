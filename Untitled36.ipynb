{
 "cells": [
  {
   "cell_type": "code",
   "execution_count": 14,
   "metadata": {},
   "outputs": [],
   "source": [
    "import pandas as pd\n",
    "from sklearn.metrics.pairwise import linear_kernel\n",
    "from sklearn.feature_extraction.text import TfidfVectorizer"
   ]
  },
  {
   "cell_type": "code",
   "execution_count": 15,
   "metadata": {},
   "outputs": [
    {
     "data": {
      "text/html": [
       "<div>\n",
       "<style scoped>\n",
       "    .dataframe tbody tr th:only-of-type {\n",
       "        vertical-align: middle;\n",
       "    }\n",
       "\n",
       "    .dataframe tbody tr th {\n",
       "        vertical-align: top;\n",
       "    }\n",
       "\n",
       "    .dataframe thead th {\n",
       "        text-align: right;\n",
       "    }\n",
       "</style>\n",
       "<table border=\"1\" class=\"dataframe\">\n",
       "  <thead>\n",
       "    <tr style=\"text-align: right;\">\n",
       "      <th></th>\n",
       "      <th>id</th>\n",
       "      <th>name</th>\n",
       "      <th>username</th>\n",
       "      <th>email</th>\n",
       "      <th>image</th>\n",
       "      <th>provider</th>\n",
       "      <th>provider_id</th>\n",
       "      <th>password</th>\n",
       "      <th>remember_token</th>\n",
       "      <th>created_at</th>\n",
       "      <th>updated_at</th>\n",
       "      <th>short_bio</th>\n",
       "    </tr>\n",
       "  </thead>\n",
       "  <tbody>\n",
       "    <tr>\n",
       "      <th>0</th>\n",
       "      <td>1</td>\n",
       "      <td>Eniayomi Oluwaseyi</td>\n",
       "      <td>eniayomi</td>\n",
       "      <td>oluwaseyieniayomi@gmail.com</td>\n",
       "      <td>/storage/oluwaseyieniayomi/images//5lxMjdbOVca...</td>\n",
       "      <td>google</td>\n",
       "      <td>100892238782850407484</td>\n",
       "      <td>NaN</td>\n",
       "      <td>79kIhqDiWzqx1i3eFpGMpxfLdPVIvSfv8A3vN2PNEl4ig9...</td>\n",
       "      <td>2019-08-01 17:57:22</td>\n",
       "      <td>2019-08-01 17:57:22</td>\n",
       "      <td>Software Developer | DevOPs Engineer</td>\n",
       "    </tr>\n",
       "    <tr>\n",
       "      <th>1</th>\n",
       "      <td>2</td>\n",
       "      <td>Elijah Okokon</td>\n",
       "      <td>DMatrix</td>\n",
       "      <td>okoelijah@gmail.com</td>\n",
       "      <td>/storage/2/images//DB7axhFJpFUzPuCNPRMQ6X1iNwb...</td>\n",
       "      <td>google</td>\n",
       "      <td>105584000674868760138</td>\n",
       "      <td>NaN</td>\n",
       "      <td>Rz08FtDtdyAp8Cm5XJq5XumgZhEqytSu5MxxyHZYlHBhd0...</td>\n",
       "      <td>2019-08-01 18:05:58</td>\n",
       "      <td>2019-08-01 18:05:58</td>\n",
       "      <td>Web Developer</td>\n",
       "    </tr>\n",
       "    <tr>\n",
       "      <th>2</th>\n",
       "      <td>3</td>\n",
       "      <td>Jeffrey Ogah</td>\n",
       "      <td>jeff.ogah</td>\n",
       "      <td>jeff.ogah@gmail.com</td>\n",
       "      <td>https://lh3.googleusercontent.com/-FQgpN5l_UoY...</td>\n",
       "      <td>google</td>\n",
       "      <td>101235103722282698796</td>\n",
       "      <td>NaN</td>\n",
       "      <td>ZxNMYG05B6RQuSWaJlqlc8bGbPyFxNGNnNf5D86biFix4G...</td>\n",
       "      <td>2019-08-01 20:55:39</td>\n",
       "      <td>2019-08-01 20:55:39</td>\n",
       "      <td>Front End Developer | React Developer | Mentor...</td>\n",
       "    </tr>\n",
       "    <tr>\n",
       "      <th>3</th>\n",
       "      <td>4</td>\n",
       "      <td>Oluwaseyi Oluwapelumi</td>\n",
       "      <td>nathan</td>\n",
       "      <td>nathanoluwaseyi@gmail.com</td>\n",
       "      <td>/storage/4/images/thumbnail/TLWSEBK7C-UMECCGUP...</td>\n",
       "      <td>google</td>\n",
       "      <td>107233455544779563919</td>\n",
       "      <td>NaN</td>\n",
       "      <td>uxbOXr4Cw8tJyilWDKQRhi7TjiV7gBzjMnX0cb4i3ndFu6...</td>\n",
       "      <td>2019-08-02 16:52:47</td>\n",
       "      <td>2019-08-02 16:52:47</td>\n",
       "      <td>| Software Developer | DevOps Engineer | @linu...</td>\n",
       "    </tr>\n",
       "    <tr>\n",
       "      <th>4</th>\n",
       "      <td>5</td>\n",
       "      <td>PoRH</td>\n",
       "      <td>lamar</td>\n",
       "      <td>paulchibiukeigweze@gmail.com</td>\n",
       "      <td>/storage/5/images/thumbnail/images (2)_small_1...</td>\n",
       "      <td>google</td>\n",
       "      <td>103431607062264005570</td>\n",
       "      <td>NaN</td>\n",
       "      <td>EeCB77oXHo3zdZgYTVhWlw2EyHkTtLSJb2PjWFF9RuG7H1...</td>\n",
       "      <td>2019-08-03 11:33:51</td>\n",
       "      <td>2019-08-03 11:33:51</td>\n",
       "      <td>I Am lamar and you don't think am real?</td>\n",
       "    </tr>\n",
       "  </tbody>\n",
       "</table>\n",
       "</div>"
      ],
      "text/plain": [
       "   id                   name   username                         email  \\\n",
       "0   1     Eniayomi Oluwaseyi   eniayomi   oluwaseyieniayomi@gmail.com   \n",
       "1   2          Elijah Okokon    DMatrix           okoelijah@gmail.com   \n",
       "2   3           Jeffrey Ogah  jeff.ogah           jeff.ogah@gmail.com   \n",
       "3   4  Oluwaseyi Oluwapelumi     nathan     nathanoluwaseyi@gmail.com   \n",
       "4   5                   PoRH      lamar  paulchibiukeigweze@gmail.com   \n",
       "\n",
       "                                               image provider  \\\n",
       "0  /storage/oluwaseyieniayomi/images//5lxMjdbOVca...   google   \n",
       "1  /storage/2/images//DB7axhFJpFUzPuCNPRMQ6X1iNwb...   google   \n",
       "2  https://lh3.googleusercontent.com/-FQgpN5l_UoY...   google   \n",
       "3  /storage/4/images/thumbnail/TLWSEBK7C-UMECCGUP...   google   \n",
       "4  /storage/5/images/thumbnail/images (2)_small_1...   google   \n",
       "\n",
       "             provider_id  password  \\\n",
       "0  100892238782850407484       NaN   \n",
       "1  105584000674868760138       NaN   \n",
       "2  101235103722282698796       NaN   \n",
       "3  107233455544779563919       NaN   \n",
       "4  103431607062264005570       NaN   \n",
       "\n",
       "                                      remember_token           created_at  \\\n",
       "0  79kIhqDiWzqx1i3eFpGMpxfLdPVIvSfv8A3vN2PNEl4ig9...  2019-08-01 17:57:22   \n",
       "1  Rz08FtDtdyAp8Cm5XJq5XumgZhEqytSu5MxxyHZYlHBhd0...  2019-08-01 18:05:58   \n",
       "2  ZxNMYG05B6RQuSWaJlqlc8bGbPyFxNGNnNf5D86biFix4G...  2019-08-01 20:55:39   \n",
       "3  uxbOXr4Cw8tJyilWDKQRhi7TjiV7gBzjMnX0cb4i3ndFu6...  2019-08-02 16:52:47   \n",
       "4  EeCB77oXHo3zdZgYTVhWlw2EyHkTtLSJb2PjWFF9RuG7H1...  2019-08-03 11:33:51   \n",
       "\n",
       "            updated_at                                          short_bio  \n",
       "0  2019-08-01 17:57:22               Software Developer | DevOPs Engineer  \n",
       "1  2019-08-01 18:05:58                                      Web Developer  \n",
       "2  2019-08-01 20:55:39  Front End Developer | React Developer | Mentor...  \n",
       "3  2019-08-02 16:52:47  | Software Developer | DevOps Engineer | @linu...  \n",
       "4  2019-08-03 11:33:51            I Am lamar and you don't think am real?  "
      ]
     },
     "execution_count": 15,
     "metadata": {},
     "output_type": "execute_result"
    }
   ],
   "source": [
    "users = pd.read_csv('lucid.csv/lucid_table_users.csv', encoding='latin-1')\n",
    "users.head()"
   ]
  },
  {
   "cell_type": "code",
   "execution_count": 19,
   "metadata": {},
   "outputs": [],
   "source": [
    "lucid_tfidf = TfidfVectorizer(stop_words='english')\n",
    "# filling the missing values with empty string\n",
    "users['username'] = users['username'].fillna('')\n",
    "# computing TF-IDF matrix required for calculating cosine similarity\n",
    "users_matrix = lucid_tfidf.fit_transform(users['username'])"
   ]
  },
  {
   "cell_type": "code",
   "execution_count": 20,
   "metadata": {},
   "outputs": [
    {
     "data": {
      "text/plain": [
       "(2293, 2483)"
      ]
     },
     "execution_count": 20,
     "metadata": {},
     "output_type": "execute_result"
    }
   ],
   "source": [
    "users_matrix.shape"
   ]
  },
  {
   "cell_type": "code",
   "execution_count": 21,
   "metadata": {},
   "outputs": [],
   "source": [
    "cosine_similarity = linear_kernel(users_matrix, users_matrix)"
   ]
  },
  {
   "cell_type": "code",
   "execution_count": 22,
   "metadata": {},
   "outputs": [],
   "source": [
    "indices = pd.Series(users['name'].index)"
   ]
  },
  {
   "cell_type": "code",
   "execution_count": 23,
   "metadata": {},
   "outputs": [],
   "source": [
    "def recommend(index, cosine_sim=cosine_similarity):\n",
    "    id = indices[index]\n",
    "    # Get the pairwsie similarity scores of all names\n",
    "    # sorting them and getting top 5\n",
    "    similarity_scores = list(enumerate(cosine_sim[id]))\n",
    "    similarity_scores = sorted(similarity_scores, key=lambda x: x[1], reverse=True)\n",
    "    similarity_scores = similarity_scores[1:6]\n",
    "\n",
    "    # Get the names index\n",
    "    lucid_index = [i[0] for i in similarity_scores]\n",
    "\n",
    "    # Return the top 5 most similar names\n",
    "    return users['name'].iloc[lucid_index]"
   ]
  },
  {
   "cell_type": "code",
   "execution_count": 24,
   "metadata": {},
   "outputs": [
    {
     "data": {
      "text/plain": [
       "723              Agwu oguche\n",
       "0         Eniayomi Oluwaseyi\n",
       "1              Elijah Okokon\n",
       "3      Oluwaseyi Oluwapelumi\n",
       "4                       PoRH\n",
       "Name: name, dtype: object"
      ]
     },
     "execution_count": 24,
     "metadata": {},
     "output_type": "execute_result"
    }
   ],
   "source": [
    "recommend(2)"
   ]
  },
  {
   "cell_type": "code",
   "execution_count": 25,
   "metadata": {},
   "outputs": [
    {
     "data": {
      "text/plain": [
       "0       Eniayomi Oluwaseyi\n",
       "1            Elijah Okokon\n",
       "2             Jeffrey Ogah\n",
       "3    Oluwaseyi Oluwapelumi\n",
       "4                     PoRH\n",
       "Name: name, dtype: object"
      ]
     },
     "execution_count": 25,
     "metadata": {},
     "output_type": "execute_result"
    }
   ],
   "source": [
    "recommend(6)"
   ]
  },
  {
   "cell_type": "code",
   "execution_count": null,
   "metadata": {},
   "outputs": [],
   "source": []
  }
 ],
 "metadata": {
  "kernelspec": {
   "display_name": "Python 3",
   "language": "python",
   "name": "python3"
  },
  "language_info": {
   "codemirror_mode": {
    "name": "ipython",
    "version": 3
   },
   "file_extension": ".py",
   "mimetype": "text/x-python",
   "name": "python",
   "nbconvert_exporter": "python",
   "pygments_lexer": "ipython3",
   "version": "3.7.3"
  }
 },
 "nbformat": 4,
 "nbformat_minor": 2
}
